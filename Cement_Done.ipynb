{
 "cells": [
  {
   "cell_type": "code",
   "execution_count": 6,
   "id": "546be0e0-7299-4b2c-9693-498d32982eff",
   "metadata": {},
   "outputs": [
    {
     "name": "stdout",
     "output_type": "stream",
     "text": [
      "Cloning into 'Cement'...\n",
      "remote: Enumerating objects: 9, done.\u001b[K\n",
      "remote: Counting objects: 100% (9/9), done.\u001b[K\n",
      "remote: Compressing objects: 100% (9/9), done.\u001b[K\n",
      "remote: Total 9 (delta 0), reused 0 (delta 0), pack-reused 0 (from 0)\u001b[K\n",
      "Receiving objects: 100% (9/9), 181.44 KiB | 1.42 MiB/s, done.\n"
     ]
    }
   ],
   "source": [
    "!git clone https://github.com/vorpalcs/Cement.git"
   ]
  },
  {
   "cell_type": "code",
   "execution_count": 8,
   "id": "79d66033-0359-48c2-bbde-4553e528ef05",
   "metadata": {},
   "outputs": [
    {
     "data": {
      "text/plain": [
       "'/Users/mbp_i9/Python for Financial Analysis and Algo Trading/CEMENT INDUSTRY'"
      ]
     },
     "execution_count": 8,
     "metadata": {},
     "output_type": "execute_result"
    }
   ],
   "source": [
    "pwd"
   ]
  },
  {
   "cell_type": "code",
   "execution_count": 10,
   "id": "fede1ce4-10fd-4476-b269-e09bb12e3a29",
   "metadata": {},
   "outputs": [
    {
     "name": "stdout",
     "output_type": "stream",
     "text": [
      "\u001b[34mCement\u001b[m\u001b[m/         Untitled.ipynb\n"
     ]
    }
   ],
   "source": [
    "ls"
   ]
  },
  {
   "cell_type": "code",
   "execution_count": 12,
   "id": "e26e00f6-07c6-42ab-81d1-30e172effad1",
   "metadata": {},
   "outputs": [
    {
     "name": "stdout",
     "output_type": "stream",
     "text": [
      "/Users/mbp_i9/Python for Financial Analysis and Algo Trading/CEMENT INDUSTRY/Cement\n"
     ]
    }
   ],
   "source": [
    "cd Cement/"
   ]
  },
  {
   "cell_type": "code",
   "execution_count": 14,
   "id": "fd380451-7ede-437e-b418-cb40b06755e2",
   "metadata": {},
   "outputs": [
    {
     "name": "stdout",
     "output_type": "stream",
     "text": [
      "ACC.csv     DALMIA.csv  RAMCO.csv   ULTRA.csv\n",
      "AMBUJA.csv  JKCEM.csv   SHREE.csv\n"
     ]
    }
   ],
   "source": [
    "ls"
   ]
  },
  {
   "cell_type": "code",
   "execution_count": 16,
   "id": "9adba936-8d23-4f79-87cd-d09e8639b97e",
   "metadata": {},
   "outputs": [],
   "source": [
    "import numpy as np\n",
    "import pandas as pd\n",
    "import matplotlib.pyplot as plt\n",
    "%matplotlib inline"
   ]
  },
  {
   "cell_type": "code",
   "execution_count": 22,
   "id": "e9e5a5e4-4bc1-441e-9868-ef300d45fbb4",
   "metadata": {},
   "outputs": [
    {
     "data": {
      "text/html": [
       "<div>\n",
       "<style scoped>\n",
       "    .dataframe tbody tr th:only-of-type {\n",
       "        vertical-align: middle;\n",
       "    }\n",
       "\n",
       "    .dataframe tbody tr th {\n",
       "        vertical-align: top;\n",
       "    }\n",
       "\n",
       "    .dataframe thead th {\n",
       "        text-align: right;\n",
       "    }\n",
       "</style>\n",
       "<table border=\"1\" class=\"dataframe\">\n",
       "  <thead>\n",
       "    <tr style=\"text-align: right;\">\n",
       "      <th></th>\n",
       "      <th>Open</th>\n",
       "      <th>High</th>\n",
       "      <th>Low</th>\n",
       "      <th>PREV_CLOSE</th>\n",
       "      <th>LTP</th>\n",
       "      <th>Close</th>\n",
       "      <th>VWAP</th>\n",
       "      <th>52W_H</th>\n",
       "      <th>52W_L</th>\n",
       "      <th>VOLUME</th>\n",
       "      <th>VALUE</th>\n",
       "      <th>Trades</th>\n",
       "    </tr>\n",
       "    <tr>\n",
       "      <th>date</th>\n",
       "      <th></th>\n",
       "      <th></th>\n",
       "      <th></th>\n",
       "      <th></th>\n",
       "      <th></th>\n",
       "      <th></th>\n",
       "      <th></th>\n",
       "      <th></th>\n",
       "      <th></th>\n",
       "      <th></th>\n",
       "      <th></th>\n",
       "      <th></th>\n",
       "    </tr>\n",
       "  </thead>\n",
       "  <tbody>\n",
       "    <tr>\n",
       "      <th>3-1-22</th>\n",
       "      <td>2220.2</td>\n",
       "      <td>2259.55</td>\n",
       "      <td>2214.15</td>\n",
       "      <td>2215.75</td>\n",
       "      <td>2245.9</td>\n",
       "      <td>2251.35</td>\n",
       "      <td>2237.14</td>\n",
       "      <td>2589.0</td>\n",
       "      <td>1584.2</td>\n",
       "      <td>335699</td>\n",
       "      <td>7.510046e+08</td>\n",
       "      <td>11932</td>\n",
       "    </tr>\n",
       "    <tr>\n",
       "      <th>4-1-22</th>\n",
       "      <td>2258.0</td>\n",
       "      <td>2264.80</td>\n",
       "      <td>2216.50</td>\n",
       "      <td>2251.35</td>\n",
       "      <td>2224.0</td>\n",
       "      <td>2224.30</td>\n",
       "      <td>2231.22</td>\n",
       "      <td>2589.0</td>\n",
       "      <td>1584.2</td>\n",
       "      <td>363436</td>\n",
       "      <td>8.109050e+08</td>\n",
       "      <td>14498</td>\n",
       "    </tr>\n",
       "    <tr>\n",
       "      <th>5-1-22</th>\n",
       "      <td>2225.0</td>\n",
       "      <td>2246.00</td>\n",
       "      <td>2220.10</td>\n",
       "      <td>2224.30</td>\n",
       "      <td>2245.0</td>\n",
       "      <td>2241.30</td>\n",
       "      <td>2236.52</td>\n",
       "      <td>2589.0</td>\n",
       "      <td>1584.2</td>\n",
       "      <td>372959</td>\n",
       "      <td>8.341312e+08</td>\n",
       "      <td>15668</td>\n",
       "    </tr>\n",
       "    <tr>\n",
       "      <th>6-1-22</th>\n",
       "      <td>2230.0</td>\n",
       "      <td>2263.80</td>\n",
       "      <td>2202.00</td>\n",
       "      <td>2241.30</td>\n",
       "      <td>2229.0</td>\n",
       "      <td>2227.30</td>\n",
       "      <td>2237.76</td>\n",
       "      <td>2589.0</td>\n",
       "      <td>1584.2</td>\n",
       "      <td>470965</td>\n",
       "      <td>1.053905e+09</td>\n",
       "      <td>25913</td>\n",
       "    </tr>\n",
       "    <tr>\n",
       "      <th>7-1-22</th>\n",
       "      <td>2234.0</td>\n",
       "      <td>2303.80</td>\n",
       "      <td>2232.05</td>\n",
       "      <td>2227.30</td>\n",
       "      <td>2290.0</td>\n",
       "      <td>2284.60</td>\n",
       "      <td>2276.31</td>\n",
       "      <td>2589.0</td>\n",
       "      <td>1584.2</td>\n",
       "      <td>573885</td>\n",
       "      <td>1.306337e+09</td>\n",
       "      <td>29246</td>\n",
       "    </tr>\n",
       "  </tbody>\n",
       "</table>\n",
       "</div>"
      ],
      "text/plain": [
       "          Open     High      Low  PREV_CLOSE     LTP    Close     VWAP  \\\n",
       "date                                                                     \n",
       "3-1-22  2220.2  2259.55  2214.15     2215.75  2245.9  2251.35  2237.14   \n",
       "4-1-22  2258.0  2264.80  2216.50     2251.35  2224.0  2224.30  2231.22   \n",
       "5-1-22  2225.0  2246.00  2220.10     2224.30  2245.0  2241.30  2236.52   \n",
       "6-1-22  2230.0  2263.80  2202.00     2241.30  2229.0  2227.30  2237.76   \n",
       "7-1-22  2234.0  2303.80  2232.05     2227.30  2290.0  2284.60  2276.31   \n",
       "\n",
       "         52W_H   52W_L  VOLUME          VALUE  Trades  \n",
       "date                                                   \n",
       "3-1-22  2589.0  1584.2   335699  7.510046e+08   11932  \n",
       "4-1-22  2589.0  1584.2   363436  8.109050e+08   14498  \n",
       "5-1-22  2589.0  1584.2   372959  8.341312e+08   15668  \n",
       "6-1-22  2589.0  1584.2   470965  1.053905e+09   25913  \n",
       "7-1-22  2589.0  1584.2   573885  1.306337e+09   29246  "
      ]
     },
     "execution_count": 22,
     "metadata": {},
     "output_type": "execute_result"
    }
   ],
   "source": [
    "acc=pd.read_csv('ACC.csv', index_col='date')\n",
    "acc.head()"
   ]
  },
  {
   "cell_type": "code",
   "execution_count": 24,
   "id": "cb05ad10-d576-4bc9-b23c-06f6ea63a87a",
   "metadata": {},
   "outputs": [
    {
     "data": {
      "text/html": [
       "<div>\n",
       "<style scoped>\n",
       "    .dataframe tbody tr th:only-of-type {\n",
       "        vertical-align: middle;\n",
       "    }\n",
       "\n",
       "    .dataframe tbody tr th {\n",
       "        vertical-align: top;\n",
       "    }\n",
       "\n",
       "    .dataframe thead th {\n",
       "        text-align: right;\n",
       "    }\n",
       "</style>\n",
       "<table border=\"1\" class=\"dataframe\">\n",
       "  <thead>\n",
       "    <tr style=\"text-align: right;\">\n",
       "      <th></th>\n",
       "      <th>Open</th>\n",
       "      <th>High</th>\n",
       "      <th>Low</th>\n",
       "      <th>PREV_CLOSE</th>\n",
       "      <th>LTP</th>\n",
       "      <th>Close</th>\n",
       "      <th>VWAP</th>\n",
       "      <th>52W_H</th>\n",
       "      <th>52W_L</th>\n",
       "      <th>VOLUME</th>\n",
       "      <th>VALUE</th>\n",
       "      <th>Trades</th>\n",
       "    </tr>\n",
       "    <tr>\n",
       "      <th>date</th>\n",
       "      <th></th>\n",
       "      <th></th>\n",
       "      <th></th>\n",
       "      <th></th>\n",
       "      <th></th>\n",
       "      <th></th>\n",
       "      <th></th>\n",
       "      <th></th>\n",
       "      <th></th>\n",
       "      <th></th>\n",
       "      <th></th>\n",
       "      <th></th>\n",
       "    </tr>\n",
       "  </thead>\n",
       "  <tbody>\n",
       "    <tr>\n",
       "      <th>3-1-22</th>\n",
       "      <td>378.75</td>\n",
       "      <td>389.45</td>\n",
       "      <td>378.20</td>\n",
       "      <td>377.50</td>\n",
       "      <td>387.00</td>\n",
       "      <td>387.00</td>\n",
       "      <td>384.61</td>\n",
       "      <td>442.5</td>\n",
       "      <td>241.75</td>\n",
       "      <td>1643912</td>\n",
       "      <td>6.322571e+08</td>\n",
       "      <td>26185</td>\n",
       "    </tr>\n",
       "    <tr>\n",
       "      <th>4-1-22</th>\n",
       "      <td>387.55</td>\n",
       "      <td>391.70</td>\n",
       "      <td>383.30</td>\n",
       "      <td>387.00</td>\n",
       "      <td>390.25</td>\n",
       "      <td>390.45</td>\n",
       "      <td>389.15</td>\n",
       "      <td>442.5</td>\n",
       "      <td>241.75</td>\n",
       "      <td>3034913</td>\n",
       "      <td>1.181041e+09</td>\n",
       "      <td>34257</td>\n",
       "    </tr>\n",
       "    <tr>\n",
       "      <th>5-1-22</th>\n",
       "      <td>389.95</td>\n",
       "      <td>394.65</td>\n",
       "      <td>388.75</td>\n",
       "      <td>390.45</td>\n",
       "      <td>393.20</td>\n",
       "      <td>393.70</td>\n",
       "      <td>392.57</td>\n",
       "      <td>442.5</td>\n",
       "      <td>241.75</td>\n",
       "      <td>1521048</td>\n",
       "      <td>5.971110e+08</td>\n",
       "      <td>22402</td>\n",
       "    </tr>\n",
       "    <tr>\n",
       "      <th>6-1-22</th>\n",
       "      <td>390.10</td>\n",
       "      <td>393.00</td>\n",
       "      <td>383.55</td>\n",
       "      <td>393.70</td>\n",
       "      <td>386.10</td>\n",
       "      <td>387.05</td>\n",
       "      <td>387.59</td>\n",
       "      <td>442.5</td>\n",
       "      <td>241.75</td>\n",
       "      <td>2579347</td>\n",
       "      <td>9.997195e+08</td>\n",
       "      <td>30633</td>\n",
       "    </tr>\n",
       "    <tr>\n",
       "      <th>7-1-22</th>\n",
       "      <td>387.05</td>\n",
       "      <td>401.95</td>\n",
       "      <td>387.05</td>\n",
       "      <td>387.05</td>\n",
       "      <td>396.55</td>\n",
       "      <td>397.25</td>\n",
       "      <td>395.66</td>\n",
       "      <td>442.5</td>\n",
       "      <td>241.75</td>\n",
       "      <td>2731750</td>\n",
       "      <td>1.080856e+09</td>\n",
       "      <td>51449</td>\n",
       "    </tr>\n",
       "  </tbody>\n",
       "</table>\n",
       "</div>"
      ],
      "text/plain": [
       "          Open    High     Low  PREV_CLOSE     LTP   Close    VWAP  52W_H  \\\n",
       "date                                                                        \n",
       "3-1-22  378.75  389.45  378.20      377.50  387.00  387.00  384.61  442.5   \n",
       "4-1-22  387.55  391.70  383.30      387.00  390.25  390.45  389.15  442.5   \n",
       "5-1-22  389.95  394.65  388.75      390.45  393.20  393.70  392.57  442.5   \n",
       "6-1-22  390.10  393.00  383.55      393.70  386.10  387.05  387.59  442.5   \n",
       "7-1-22  387.05  401.95  387.05      387.05  396.55  397.25  395.66  442.5   \n",
       "\n",
       "         52W_L  VOLUME         VALUE   Trades  \n",
       "date                                           \n",
       "3-1-22  241.75  1643912  6.322571e+08   26185  \n",
       "4-1-22  241.75  3034913  1.181041e+09   34257  \n",
       "5-1-22  241.75  1521048  5.971110e+08   22402  \n",
       "6-1-22  241.75  2579347  9.997195e+08   30633  \n",
       "7-1-22  241.75  2731750  1.080856e+09   51449  "
      ]
     },
     "execution_count": 24,
     "metadata": {},
     "output_type": "execute_result"
    }
   ],
   "source": [
    "ambuja=pd.read_csv('AMBUJA.csv', index_col='date')\n",
    "ambuja.head()"
   ]
  },
  {
   "cell_type": "code",
   "execution_count": 26,
   "id": "4db26e7b-3b65-4b00-85fa-80362dcdb278",
   "metadata": {},
   "outputs": [
    {
     "data": {
      "text/html": [
       "<div>\n",
       "<style scoped>\n",
       "    .dataframe tbody tr th:only-of-type {\n",
       "        vertical-align: middle;\n",
       "    }\n",
       "\n",
       "    .dataframe tbody tr th {\n",
       "        vertical-align: top;\n",
       "    }\n",
       "\n",
       "    .dataframe thead th {\n",
       "        text-align: right;\n",
       "    }\n",
       "</style>\n",
       "<table border=\"1\" class=\"dataframe\">\n",
       "  <thead>\n",
       "    <tr style=\"text-align: right;\">\n",
       "      <th></th>\n",
       "      <th>Open</th>\n",
       "      <th>High</th>\n",
       "      <th>Low</th>\n",
       "      <th>PREV_CLOSE</th>\n",
       "      <th>LTP</th>\n",
       "      <th>Close</th>\n",
       "      <th>VWAP 52W_L</th>\n",
       "      <th>52W_H</th>\n",
       "      <th>52W_L</th>\n",
       "      <th>VOLUME</th>\n",
       "      <th>VALUE</th>\n",
       "      <th>Trades</th>\n",
       "    </tr>\n",
       "    <tr>\n",
       "      <th>date</th>\n",
       "      <th></th>\n",
       "      <th></th>\n",
       "      <th></th>\n",
       "      <th></th>\n",
       "      <th></th>\n",
       "      <th></th>\n",
       "      <th></th>\n",
       "      <th></th>\n",
       "      <th></th>\n",
       "      <th></th>\n",
       "      <th></th>\n",
       "      <th></th>\n",
       "    </tr>\n",
       "  </thead>\n",
       "  <tbody>\n",
       "    <tr>\n",
       "      <th>3-1-22</th>\n",
       "      <td>1849.55</td>\n",
       "      <td>1892.60</td>\n",
       "      <td>1844.80</td>\n",
       "      <td>1847.90</td>\n",
       "      <td>1889.90</td>\n",
       "      <td>1881.85</td>\n",
       "      <td>1877.86</td>\n",
       "      <td>2548.4</td>\n",
       "      <td>1081.0</td>\n",
       "      <td>141011</td>\n",
       "      <td>2.647994e+08</td>\n",
       "      <td>8021</td>\n",
       "    </tr>\n",
       "    <tr>\n",
       "      <th>4-1-22</th>\n",
       "      <td>1888.00</td>\n",
       "      <td>1898.30</td>\n",
       "      <td>1860.55</td>\n",
       "      <td>1881.85</td>\n",
       "      <td>1880.05</td>\n",
       "      <td>1876.60</td>\n",
       "      <td>1878.23</td>\n",
       "      <td>2548.4</td>\n",
       "      <td>1081.0</td>\n",
       "      <td>84425</td>\n",
       "      <td>1.585698e+08</td>\n",
       "      <td>6299</td>\n",
       "    </tr>\n",
       "    <tr>\n",
       "      <th>5-1-22</th>\n",
       "      <td>1876.65</td>\n",
       "      <td>1940.00</td>\n",
       "      <td>1876.65</td>\n",
       "      <td>1876.60</td>\n",
       "      <td>1912.00</td>\n",
       "      <td>1911.05</td>\n",
       "      <td>1920.65</td>\n",
       "      <td>2548.4</td>\n",
       "      <td>1081.0</td>\n",
       "      <td>454090</td>\n",
       "      <td>8.721499e+08</td>\n",
       "      <td>17083</td>\n",
       "    </tr>\n",
       "    <tr>\n",
       "      <th>6-1-22</th>\n",
       "      <td>1909.90</td>\n",
       "      <td>1919.35</td>\n",
       "      <td>1877.00</td>\n",
       "      <td>1911.05</td>\n",
       "      <td>1890.50</td>\n",
       "      <td>1887.40</td>\n",
       "      <td>1896.12</td>\n",
       "      <td>2548.4</td>\n",
       "      <td>1081.0</td>\n",
       "      <td>157688</td>\n",
       "      <td>2.989952e+08</td>\n",
       "      <td>10995</td>\n",
       "    </tr>\n",
       "    <tr>\n",
       "      <th>7-1-22</th>\n",
       "      <td>1880.00</td>\n",
       "      <td>1950.45</td>\n",
       "      <td>1863.00</td>\n",
       "      <td>1887.40</td>\n",
       "      <td>1934.90</td>\n",
       "      <td>1931.35</td>\n",
       "      <td>1906.31</td>\n",
       "      <td>2548.4</td>\n",
       "      <td>1081.0</td>\n",
       "      <td>350551</td>\n",
       "      <td>6.682603e+08</td>\n",
       "      <td>18092</td>\n",
       "    </tr>\n",
       "  </tbody>\n",
       "</table>\n",
       "</div>"
      ],
      "text/plain": [
       "           Open    High       Low  PREV_CLOSE      LTP    Close  VWAP 52W_L  \\\n",
       "date                                                                          \n",
       "3-1-22  1849.55  1892.60  1844.80     1847.90  1889.90  1881.85     1877.86   \n",
       "4-1-22  1888.00  1898.30  1860.55     1881.85  1880.05  1876.60     1878.23   \n",
       "5-1-22  1876.65  1940.00  1876.65     1876.60  1912.00  1911.05     1920.65   \n",
       "6-1-22  1909.90  1919.35  1877.00     1911.05  1890.50  1887.40     1896.12   \n",
       "7-1-22  1880.00  1950.45  1863.00     1887.40  1934.90  1931.35     1906.31   \n",
       "\n",
       "         52W_H   52W_L  VOLUME         VALUE   Trades  \n",
       "date                                                   \n",
       "3-1-22  2548.4  1081.0   141011  2.647994e+08    8021  \n",
       "4-1-22  2548.4  1081.0    84425  1.585698e+08    6299  \n",
       "5-1-22  2548.4  1081.0   454090  8.721499e+08   17083  \n",
       "6-1-22  2548.4  1081.0   157688  2.989952e+08   10995  \n",
       "7-1-22  2548.4  1081.0   350551  6.682603e+08   18092  "
      ]
     },
     "execution_count": 26,
     "metadata": {},
     "output_type": "execute_result"
    }
   ],
   "source": [
    "dalmia=pd.read_csv('DALMIA.csv', index_col='date')\n",
    "dalmia.head()"
   ]
  },
  {
   "cell_type": "code",
   "execution_count": 28,
   "id": "e333f8fd-7f96-466f-aa40-8a94b06a156c",
   "metadata": {},
   "outputs": [
    {
     "data": {
      "text/html": [
       "<div>\n",
       "<style scoped>\n",
       "    .dataframe tbody tr th:only-of-type {\n",
       "        vertical-align: middle;\n",
       "    }\n",
       "\n",
       "    .dataframe tbody tr th {\n",
       "        vertical-align: top;\n",
       "    }\n",
       "\n",
       "    .dataframe thead th {\n",
       "        text-align: right;\n",
       "    }\n",
       "</style>\n",
       "<table border=\"1\" class=\"dataframe\">\n",
       "  <thead>\n",
       "    <tr style=\"text-align: right;\">\n",
       "      <th></th>\n",
       "      <th>Open</th>\n",
       "      <th>High</th>\n",
       "      <th>Low</th>\n",
       "      <th>PREV_CLOSE</th>\n",
       "      <th>LTP</th>\n",
       "      <th>Close</th>\n",
       "      <th>VWAP</th>\n",
       "      <th>52W_H</th>\n",
       "      <th>52W_L</th>\n",
       "      <th>VOLUME</th>\n",
       "      <th>VALUE</th>\n",
       "      <th>Trades</th>\n",
       "    </tr>\n",
       "    <tr>\n",
       "      <th>date</th>\n",
       "      <th></th>\n",
       "      <th></th>\n",
       "      <th></th>\n",
       "      <th></th>\n",
       "      <th></th>\n",
       "      <th></th>\n",
       "      <th></th>\n",
       "      <th></th>\n",
       "      <th></th>\n",
       "      <th></th>\n",
       "      <th></th>\n",
       "      <th></th>\n",
       "    </tr>\n",
       "  </thead>\n",
       "  <tbody>\n",
       "    <tr>\n",
       "      <th>3-1-22</th>\n",
       "      <td>3369.00</td>\n",
       "      <td>3540.95</td>\n",
       "      <td>3369.00</td>\n",
       "      <td>3398.85</td>\n",
       "      <td>3520.0</td>\n",
       "      <td>3523.10</td>\n",
       "      <td>3475.98</td>\n",
       "      <td>3838.0</td>\n",
       "      <td>1928.0</td>\n",
       "      <td>145293</td>\n",
       "      <td>5.050352e+08</td>\n",
       "      <td>14831</td>\n",
       "    </tr>\n",
       "    <tr>\n",
       "      <th>4-1-22</th>\n",
       "      <td>3520.00</td>\n",
       "      <td>3558.00</td>\n",
       "      <td>3490.45</td>\n",
       "      <td>3523.10</td>\n",
       "      <td>3514.7</td>\n",
       "      <td>3526.15</td>\n",
       "      <td>3532.81</td>\n",
       "      <td>3838.0</td>\n",
       "      <td>1928.0</td>\n",
       "      <td>182486</td>\n",
       "      <td>6.446890e+08</td>\n",
       "      <td>14048</td>\n",
       "    </tr>\n",
       "    <tr>\n",
       "      <th>5-1-22</th>\n",
       "      <td>3495.00</td>\n",
       "      <td>3575.00</td>\n",
       "      <td>3467.25</td>\n",
       "      <td>3526.15</td>\n",
       "      <td>3480.0</td>\n",
       "      <td>3484.60</td>\n",
       "      <td>3518.50</td>\n",
       "      <td>3838.0</td>\n",
       "      <td>1928.0</td>\n",
       "      <td>91175</td>\n",
       "      <td>3.207994e+08</td>\n",
       "      <td>11199</td>\n",
       "    </tr>\n",
       "    <tr>\n",
       "      <th>6-1-22</th>\n",
       "      <td>3494.95</td>\n",
       "      <td>3497.80</td>\n",
       "      <td>3379.10</td>\n",
       "      <td>3484.60</td>\n",
       "      <td>3454.6</td>\n",
       "      <td>3461.65</td>\n",
       "      <td>3462.75</td>\n",
       "      <td>3838.0</td>\n",
       "      <td>1928.0</td>\n",
       "      <td>90836</td>\n",
       "      <td>3.145427e+08</td>\n",
       "      <td>5360</td>\n",
       "    </tr>\n",
       "    <tr>\n",
       "      <th>7-1-22</th>\n",
       "      <td>3450.00</td>\n",
       "      <td>3562.00</td>\n",
       "      <td>3400.05</td>\n",
       "      <td>3461.65</td>\n",
       "      <td>3530.0</td>\n",
       "      <td>3533.90</td>\n",
       "      <td>3478.52</td>\n",
       "      <td>3838.0</td>\n",
       "      <td>1928.0</td>\n",
       "      <td>204104</td>\n",
       "      <td>7.099797e+08</td>\n",
       "      <td>13545</td>\n",
       "    </tr>\n",
       "  </tbody>\n",
       "</table>\n",
       "</div>"
      ],
      "text/plain": [
       "           Open     High      Low  PREV_CLOSE     LTP    Close     VWAP  \\\n",
       "date                                                                      \n",
       "3-1-22  3369.00  3540.95  3369.00     3398.85  3520.0  3523.10  3475.98   \n",
       "4-1-22  3520.00  3558.00  3490.45     3523.10  3514.7  3526.15  3532.81   \n",
       "5-1-22  3495.00  3575.00  3467.25     3526.15  3480.0  3484.60  3518.50   \n",
       "6-1-22  3494.95  3497.80  3379.10     3484.60  3454.6  3461.65  3462.75   \n",
       "7-1-22  3450.00  3562.00  3400.05     3461.65  3530.0  3533.90  3478.52   \n",
       "\n",
       "         52W_H   52W_L  VOLUME         VALUE   Trades  \n",
       "date                                                   \n",
       "3-1-22  3838.0  1928.0   145293  5.050352e+08   14831  \n",
       "4-1-22  3838.0  1928.0   182486  6.446890e+08   14048  \n",
       "5-1-22  3838.0  1928.0    91175  3.207994e+08   11199  \n",
       "6-1-22  3838.0  1928.0    90836  3.145427e+08    5360  \n",
       "7-1-22  3838.0  1928.0   204104  7.099797e+08   13545  "
      ]
     },
     "execution_count": 28,
     "metadata": {},
     "output_type": "execute_result"
    }
   ],
   "source": [
    "jk=pd.read_csv('JKCEM.csv', index_col='date')\n",
    "jk.head()"
   ]
  },
  {
   "cell_type": "code",
   "execution_count": 30,
   "id": "89a3b95a-0dd0-4424-9959-55e4890599a4",
   "metadata": {},
   "outputs": [
    {
     "data": {
      "text/html": [
       "<div>\n",
       "<style scoped>\n",
       "    .dataframe tbody tr th:only-of-type {\n",
       "        vertical-align: middle;\n",
       "    }\n",
       "\n",
       "    .dataframe tbody tr th {\n",
       "        vertical-align: top;\n",
       "    }\n",
       "\n",
       "    .dataframe thead th {\n",
       "        text-align: right;\n",
       "    }\n",
       "</style>\n",
       "<table border=\"1\" class=\"dataframe\">\n",
       "  <thead>\n",
       "    <tr style=\"text-align: right;\">\n",
       "      <th></th>\n",
       "      <th>Open</th>\n",
       "      <th>High</th>\n",
       "      <th>Low</th>\n",
       "      <th>PREV_CLOSE</th>\n",
       "      <th>LTP</th>\n",
       "      <th>Close</th>\n",
       "      <th>VWAP</th>\n",
       "      <th>52W_H</th>\n",
       "      <th>52W_L</th>\n",
       "      <th>VOLUME</th>\n",
       "      <th>VALUE</th>\n",
       "      <th>Trades</th>\n",
       "    </tr>\n",
       "    <tr>\n",
       "      <th>date</th>\n",
       "      <th></th>\n",
       "      <th></th>\n",
       "      <th></th>\n",
       "      <th></th>\n",
       "      <th></th>\n",
       "      <th></th>\n",
       "      <th></th>\n",
       "      <th></th>\n",
       "      <th></th>\n",
       "      <th></th>\n",
       "      <th></th>\n",
       "      <th></th>\n",
       "    </tr>\n",
       "  </thead>\n",
       "  <tbody>\n",
       "    <tr>\n",
       "      <th>3-1-22</th>\n",
       "      <td>1008.80</td>\n",
       "      <td>1028.80</td>\n",
       "      <td>1000.00</td>\n",
       "      <td>1004.10</td>\n",
       "      <td>1023.15</td>\n",
       "      <td>1026.75</td>\n",
       "      <td>1016.84</td>\n",
       "      <td>1132.7</td>\n",
       "      <td>766.05</td>\n",
       "      <td>140739</td>\n",
       "      <td>1.431089e+08</td>\n",
       "      <td>9324</td>\n",
       "    </tr>\n",
       "    <tr>\n",
       "      <th>4-1-22</th>\n",
       "      <td>1026.85</td>\n",
       "      <td>1030.75</td>\n",
       "      <td>1016.50</td>\n",
       "      <td>1026.75</td>\n",
       "      <td>1021.10</td>\n",
       "      <td>1024.40</td>\n",
       "      <td>1023.40</td>\n",
       "      <td>1132.7</td>\n",
       "      <td>766.05</td>\n",
       "      <td>302302</td>\n",
       "      <td>3.093766e+08</td>\n",
       "      <td>12461</td>\n",
       "    </tr>\n",
       "    <tr>\n",
       "      <th>5-1-22</th>\n",
       "      <td>1024.40</td>\n",
       "      <td>1045.00</td>\n",
       "      <td>1017.00</td>\n",
       "      <td>1024.40</td>\n",
       "      <td>1028.00</td>\n",
       "      <td>1029.35</td>\n",
       "      <td>1033.86</td>\n",
       "      <td>1132.7</td>\n",
       "      <td>766.05</td>\n",
       "      <td>437962</td>\n",
       "      <td>4.527928e+08</td>\n",
       "      <td>18522</td>\n",
       "    </tr>\n",
       "    <tr>\n",
       "      <th>6-1-22</th>\n",
       "      <td>1024.80</td>\n",
       "      <td>1028.45</td>\n",
       "      <td>983.05</td>\n",
       "      <td>1029.35</td>\n",
       "      <td>1003.50</td>\n",
       "      <td>1007.65</td>\n",
       "      <td>1009.21</td>\n",
       "      <td>1132.7</td>\n",
       "      <td>766.05</td>\n",
       "      <td>324837</td>\n",
       "      <td>3.278286e+08</td>\n",
       "      <td>13794</td>\n",
       "    </tr>\n",
       "    <tr>\n",
       "      <th>7-1-22</th>\n",
       "      <td>1003.55</td>\n",
       "      <td>1037.10</td>\n",
       "      <td>1003.55</td>\n",
       "      <td>1007.65</td>\n",
       "      <td>1029.00</td>\n",
       "      <td>1028.35</td>\n",
       "      <td>1020.42</td>\n",
       "      <td>1132.7</td>\n",
       "      <td>766.05</td>\n",
       "      <td>309655</td>\n",
       "      <td>3.159778e+08</td>\n",
       "      <td>12509</td>\n",
       "    </tr>\n",
       "  </tbody>\n",
       "</table>\n",
       "</div>"
      ],
      "text/plain": [
       "           Open     High      Low  PREV_CLOSE      LTP    Close     VWAP  \\\n",
       "date                                                                       \n",
       "3-1-22  1008.80  1028.80  1000.00     1004.10  1023.15  1026.75  1016.84   \n",
       "4-1-22  1026.85  1030.75  1016.50     1026.75  1021.10  1024.40  1023.40   \n",
       "5-1-22  1024.40  1045.00  1017.00     1024.40  1028.00  1029.35  1033.86   \n",
       "6-1-22  1024.80  1028.45   983.05     1029.35  1003.50  1007.65  1009.21   \n",
       "7-1-22  1003.55  1037.10  1003.55     1007.65  1029.00  1028.35  1020.42   \n",
       "\n",
       "         52W_H   52W_L  VOLUME         VALUE   Trades  \n",
       "date                                                   \n",
       "3-1-22  1132.7  766.05   140739  1.431089e+08    9324  \n",
       "4-1-22  1132.7  766.05   302302  3.093766e+08   12461  \n",
       "5-1-22  1132.7  766.05   437962  4.527928e+08   18522  \n",
       "6-1-22  1132.7  766.05   324837  3.278286e+08   13794  \n",
       "7-1-22  1132.7  766.05   309655  3.159778e+08   12509  "
      ]
     },
     "execution_count": 30,
     "metadata": {},
     "output_type": "execute_result"
    }
   ],
   "source": [
    "ramco=pd.read_csv('RAMCO.csv', index_col='date')\n",
    "ramco.head()"
   ]
  },
  {
   "cell_type": "code",
   "execution_count": 32,
   "id": "270e12ce-cbaf-4ffe-bf10-5f45912dcfac",
   "metadata": {},
   "outputs": [
    {
     "data": {
      "text/html": [
       "<div>\n",
       "<style scoped>\n",
       "    .dataframe tbody tr th:only-of-type {\n",
       "        vertical-align: middle;\n",
       "    }\n",
       "\n",
       "    .dataframe tbody tr th {\n",
       "        vertical-align: top;\n",
       "    }\n",
       "\n",
       "    .dataframe thead th {\n",
       "        text-align: right;\n",
       "    }\n",
       "</style>\n",
       "<table border=\"1\" class=\"dataframe\">\n",
       "  <thead>\n",
       "    <tr style=\"text-align: right;\">\n",
       "      <th></th>\n",
       "      <th>Open</th>\n",
       "      <th>HIgh</th>\n",
       "      <th>Low</th>\n",
       "      <th>PREV_CLOSE</th>\n",
       "      <th>LTP</th>\n",
       "      <th>Close</th>\n",
       "      <th>VWAP</th>\n",
       "      <th>52W_H</th>\n",
       "      <th>52W_L</th>\n",
       "      <th>VOLUME</th>\n",
       "      <th>VALUE</th>\n",
       "      <th>Trades</th>\n",
       "    </tr>\n",
       "    <tr>\n",
       "      <th>date</th>\n",
       "      <th></th>\n",
       "      <th></th>\n",
       "      <th></th>\n",
       "      <th></th>\n",
       "      <th></th>\n",
       "      <th></th>\n",
       "      <th></th>\n",
       "      <th></th>\n",
       "      <th></th>\n",
       "      <th></th>\n",
       "      <th></th>\n",
       "      <th></th>\n",
       "    </tr>\n",
       "  </thead>\n",
       "  <tbody>\n",
       "    <tr>\n",
       "      <th>3-1-22</th>\n",
       "      <td>7600.00</td>\n",
       "      <td>7750.00</td>\n",
       "      <td>7570.05</td>\n",
       "      <td>7591.05</td>\n",
       "      <td>7712.00</td>\n",
       "      <td>7723.90</td>\n",
       "      <td>7652.56</td>\n",
       "      <td>8269.0</td>\n",
       "      <td>5245.05</td>\n",
       "      <td>250533</td>\n",
       "      <td>1.917220e+09</td>\n",
       "      <td>25449</td>\n",
       "    </tr>\n",
       "    <tr>\n",
       "      <th>4-1-22</th>\n",
       "      <td>7749.00</td>\n",
       "      <td>7772.85</td>\n",
       "      <td>7611.70</td>\n",
       "      <td>7723.90</td>\n",
       "      <td>7653.00</td>\n",
       "      <td>7650.35</td>\n",
       "      <td>7664.76</td>\n",
       "      <td>8269.0</td>\n",
       "      <td>5245.05</td>\n",
       "      <td>315188</td>\n",
       "      <td>2.415841e+09</td>\n",
       "      <td>39784</td>\n",
       "    </tr>\n",
       "    <tr>\n",
       "      <th>5-1-22</th>\n",
       "      <td>7650.50</td>\n",
       "      <td>7769.00</td>\n",
       "      <td>7595.00</td>\n",
       "      <td>7650.35</td>\n",
       "      <td>7649.25</td>\n",
       "      <td>7659.55</td>\n",
       "      <td>7658.14</td>\n",
       "      <td>8269.0</td>\n",
       "      <td>5245.05</td>\n",
       "      <td>400874</td>\n",
       "      <td>3.069948e+09</td>\n",
       "      <td>48598</td>\n",
       "    </tr>\n",
       "    <tr>\n",
       "      <th>6-1-22</th>\n",
       "      <td>7639.55</td>\n",
       "      <td>7699.95</td>\n",
       "      <td>7425.05</td>\n",
       "      <td>7659.55</td>\n",
       "      <td>7455.00</td>\n",
       "      <td>7458.55</td>\n",
       "      <td>7521.42</td>\n",
       "      <td>8269.0</td>\n",
       "      <td>5245.05</td>\n",
       "      <td>403448</td>\n",
       "      <td>3.034503e+09</td>\n",
       "      <td>61501</td>\n",
       "    </tr>\n",
       "    <tr>\n",
       "      <th>7-1-22</th>\n",
       "      <td>7465.10</td>\n",
       "      <td>7580.00</td>\n",
       "      <td>7439.05</td>\n",
       "      <td>7458.55</td>\n",
       "      <td>7546.15</td>\n",
       "      <td>7557.95</td>\n",
       "      <td>7515.17</td>\n",
       "      <td>8269.0</td>\n",
       "      <td>5245.05</td>\n",
       "      <td>543512</td>\n",
       "      <td>4.084583e+09</td>\n",
       "      <td>53218</td>\n",
       "    </tr>\n",
       "  </tbody>\n",
       "</table>\n",
       "</div>"
      ],
      "text/plain": [
       "           Open     HIgh      Low  PREV_CLOSE      LTP    Close     VWAP  \\\n",
       "date                                                                       \n",
       "3-1-22  7600.00  7750.00  7570.05     7591.05  7712.00  7723.90  7652.56   \n",
       "4-1-22  7749.00  7772.85  7611.70     7723.90  7653.00  7650.35  7664.76   \n",
       "5-1-22  7650.50  7769.00  7595.00     7650.35  7649.25  7659.55  7658.14   \n",
       "6-1-22  7639.55  7699.95  7425.05     7659.55  7455.00  7458.55  7521.42   \n",
       "7-1-22  7465.10  7580.00  7439.05     7458.55  7546.15  7557.95  7515.17   \n",
       "\n",
       "         52W_H    52W_L  VOLUME         VALUE   Trades  \n",
       "date                                                    \n",
       "3-1-22  8269.0  5245.05   250533  1.917220e+09   25449  \n",
       "4-1-22  8269.0  5245.05   315188  2.415841e+09   39784  \n",
       "5-1-22  8269.0  5245.05   400874  3.069948e+09   48598  \n",
       "6-1-22  8269.0  5245.05   403448  3.034503e+09   61501  \n",
       "7-1-22  8269.0  5245.05   543512  4.084583e+09   53218  "
      ]
     },
     "execution_count": 32,
     "metadata": {},
     "output_type": "execute_result"
    }
   ],
   "source": [
    "ultra=pd.read_csv('ULTRA.csv', index_col='date')\n",
    "ultra.head()"
   ]
  },
  {
   "cell_type": "code",
   "execution_count": 34,
   "id": "9675da0e-faa5-4a63-ab85-29a28b5c8ff0",
   "metadata": {},
   "outputs": [
    {
     "data": {
      "text/html": [
       "<div>\n",
       "<style scoped>\n",
       "    .dataframe tbody tr th:only-of-type {\n",
       "        vertical-align: middle;\n",
       "    }\n",
       "\n",
       "    .dataframe tbody tr th {\n",
       "        vertical-align: top;\n",
       "    }\n",
       "\n",
       "    .dataframe thead th {\n",
       "        text-align: right;\n",
       "    }\n",
       "</style>\n",
       "<table border=\"1\" class=\"dataframe\">\n",
       "  <thead>\n",
       "    <tr style=\"text-align: right;\">\n",
       "      <th></th>\n",
       "      <th>Open</th>\n",
       "      <th>HIgh</th>\n",
       "      <th>Low</th>\n",
       "      <th>PREV_CLOSE</th>\n",
       "      <th>LTP</th>\n",
       "      <th>Close</th>\n",
       "      <th>VWAP</th>\n",
       "      <th>52W_H</th>\n",
       "      <th>52W_L</th>\n",
       "      <th>VOLUME</th>\n",
       "      <th>VALUE</th>\n",
       "      <th>Trades</th>\n",
       "    </tr>\n",
       "    <tr>\n",
       "      <th>date</th>\n",
       "      <th></th>\n",
       "      <th></th>\n",
       "      <th></th>\n",
       "      <th></th>\n",
       "      <th></th>\n",
       "      <th></th>\n",
       "      <th></th>\n",
       "      <th></th>\n",
       "      <th></th>\n",
       "      <th></th>\n",
       "      <th></th>\n",
       "      <th></th>\n",
       "    </tr>\n",
       "  </thead>\n",
       "  <tbody>\n",
       "    <tr>\n",
       "      <th>3-1-22</th>\n",
       "      <td>27000.00</td>\n",
       "      <td>27349.85</td>\n",
       "      <td>26890.00</td>\n",
       "      <td>26987.45</td>\n",
       "      <td>27265.0</td>\n",
       "      <td>27247.40</td>\n",
       "      <td>27123.12</td>\n",
       "      <td>32048.0</td>\n",
       "      <td>22531.0</td>\n",
       "      <td>19537</td>\n",
       "      <td>5.299045e+08</td>\n",
       "      <td>6494</td>\n",
       "    </tr>\n",
       "    <tr>\n",
       "      <th>4-1-22</th>\n",
       "      <td>27247.40</td>\n",
       "      <td>27335.55</td>\n",
       "      <td>26658.50</td>\n",
       "      <td>27247.40</td>\n",
       "      <td>26950.0</td>\n",
       "      <td>26954.10</td>\n",
       "      <td>26920.63</td>\n",
       "      <td>32048.0</td>\n",
       "      <td>22531.0</td>\n",
       "      <td>26215</td>\n",
       "      <td>7.057244e+08</td>\n",
       "      <td>11005</td>\n",
       "    </tr>\n",
       "    <tr>\n",
       "      <th>5-1-22</th>\n",
       "      <td>26902.00</td>\n",
       "      <td>27300.00</td>\n",
       "      <td>26850.20</td>\n",
       "      <td>26954.10</td>\n",
       "      <td>27154.5</td>\n",
       "      <td>27214.65</td>\n",
       "      <td>27150.48</td>\n",
       "      <td>32048.0</td>\n",
       "      <td>22531.0</td>\n",
       "      <td>17262</td>\n",
       "      <td>4.686716e+08</td>\n",
       "      <td>6519</td>\n",
       "    </tr>\n",
       "    <tr>\n",
       "      <th>6-1-22</th>\n",
       "      <td>27000.00</td>\n",
       "      <td>27167.10</td>\n",
       "      <td>26250.65</td>\n",
       "      <td>27214.65</td>\n",
       "      <td>26509.0</td>\n",
       "      <td>26528.05</td>\n",
       "      <td>26600.64</td>\n",
       "      <td>32048.0</td>\n",
       "      <td>22531.0</td>\n",
       "      <td>25411</td>\n",
       "      <td>6.759488e+08</td>\n",
       "      <td>8952</td>\n",
       "    </tr>\n",
       "    <tr>\n",
       "      <th>7-1-22</th>\n",
       "      <td>26658.65</td>\n",
       "      <td>27266.25</td>\n",
       "      <td>26572.55</td>\n",
       "      <td>26528.05</td>\n",
       "      <td>27029.9</td>\n",
       "      <td>27046.25</td>\n",
       "      <td>26928.17</td>\n",
       "      <td>32048.0</td>\n",
       "      <td>22531.0</td>\n",
       "      <td>32658</td>\n",
       "      <td>8.794202e+08</td>\n",
       "      <td>10250</td>\n",
       "    </tr>\n",
       "  </tbody>\n",
       "</table>\n",
       "</div>"
      ],
      "text/plain": [
       "            Open      HIgh       Low  PREV_CLOSE      LTP     Close      VWAP  \\\n",
       "date                                                                            \n",
       "3-1-22  27000.00  27349.85  26890.00    26987.45  27265.0  27247.40  27123.12   \n",
       "4-1-22  27247.40  27335.55  26658.50    27247.40  26950.0  26954.10  26920.63   \n",
       "5-1-22  26902.00  27300.00  26850.20    26954.10  27154.5  27214.65  27150.48   \n",
       "6-1-22  27000.00  27167.10  26250.65    27214.65  26509.0  26528.05  26600.64   \n",
       "7-1-22  26658.65  27266.25  26572.55    26528.05  27029.9  27046.25  26928.17   \n",
       "\n",
       "          52W_H    52W_L  VOLUME         VALUE   Trades  \n",
       "date                                                     \n",
       "3-1-22  32048.0  22531.0    19537  5.299045e+08    6494  \n",
       "4-1-22  32048.0  22531.0    26215  7.057244e+08   11005  \n",
       "5-1-22  32048.0  22531.0    17262  4.686716e+08    6519  \n",
       "6-1-22  32048.0  22531.0    25411  6.759488e+08    8952  \n",
       "7-1-22  32048.0  22531.0    32658  8.794202e+08   10250  "
      ]
     },
     "execution_count": 34,
     "metadata": {},
     "output_type": "execute_result"
    }
   ],
   "source": [
    "shree=pd.read_csv('SHREE.csv', index_col='date')\n",
    "shree.head()"
   ]
  },
  {
   "cell_type": "code",
   "execution_count": 36,
   "id": "26ab69c4-d166-4429-9654-4c0b097f90b1",
   "metadata": {},
   "outputs": [
    {
     "data": {
      "text/html": [
       "<div>\n",
       "<style scoped>\n",
       "    .dataframe tbody tr th:only-of-type {\n",
       "        vertical-align: middle;\n",
       "    }\n",
       "\n",
       "    .dataframe tbody tr th {\n",
       "        vertical-align: top;\n",
       "    }\n",
       "\n",
       "    .dataframe thead th {\n",
       "        text-align: right;\n",
       "    }\n",
       "</style>\n",
       "<table border=\"1\" class=\"dataframe\">\n",
       "  <thead>\n",
       "    <tr style=\"text-align: right;\">\n",
       "      <th></th>\n",
       "      <th>ULTRA TECH</th>\n",
       "      <th>AMBUJA</th>\n",
       "      <th>ACC</th>\n",
       "      <th>RAMCO</th>\n",
       "      <th>JK</th>\n",
       "      <th>SHREE</th>\n",
       "      <th>DALMIA</th>\n",
       "    </tr>\n",
       "    <tr>\n",
       "      <th>date</th>\n",
       "      <th></th>\n",
       "      <th></th>\n",
       "      <th></th>\n",
       "      <th></th>\n",
       "      <th></th>\n",
       "      <th></th>\n",
       "      <th></th>\n",
       "    </tr>\n",
       "  </thead>\n",
       "  <tbody>\n",
       "    <tr>\n",
       "      <th>3-1-22</th>\n",
       "      <td>7712.00</td>\n",
       "      <td>387.00</td>\n",
       "      <td>2245.9</td>\n",
       "      <td>1023.15</td>\n",
       "      <td>3520.0</td>\n",
       "      <td>27265.0</td>\n",
       "      <td>1889.90</td>\n",
       "    </tr>\n",
       "    <tr>\n",
       "      <th>4-1-22</th>\n",
       "      <td>7653.00</td>\n",
       "      <td>390.25</td>\n",
       "      <td>2224.0</td>\n",
       "      <td>1021.10</td>\n",
       "      <td>3514.7</td>\n",
       "      <td>26950.0</td>\n",
       "      <td>1880.05</td>\n",
       "    </tr>\n",
       "    <tr>\n",
       "      <th>5-1-22</th>\n",
       "      <td>7649.25</td>\n",
       "      <td>393.20</td>\n",
       "      <td>2245.0</td>\n",
       "      <td>1028.00</td>\n",
       "      <td>3480.0</td>\n",
       "      <td>27154.5</td>\n",
       "      <td>1912.00</td>\n",
       "    </tr>\n",
       "    <tr>\n",
       "      <th>6-1-22</th>\n",
       "      <td>7455.00</td>\n",
       "      <td>386.10</td>\n",
       "      <td>2229.0</td>\n",
       "      <td>1003.50</td>\n",
       "      <td>3454.6</td>\n",
       "      <td>26509.0</td>\n",
       "      <td>1890.50</td>\n",
       "    </tr>\n",
       "    <tr>\n",
       "      <th>7-1-22</th>\n",
       "      <td>7546.15</td>\n",
       "      <td>396.55</td>\n",
       "      <td>2290.0</td>\n",
       "      <td>1029.00</td>\n",
       "      <td>3530.0</td>\n",
       "      <td>27029.9</td>\n",
       "      <td>1934.90</td>\n",
       "    </tr>\n",
       "  </tbody>\n",
       "</table>\n",
       "</div>"
      ],
      "text/plain": [
       "        ULTRA TECH  AMBUJA     ACC    RAMCO      JK    SHREE   DALMIA\n",
       "date                                                                 \n",
       "3-1-22     7712.00  387.00  2245.9  1023.15  3520.0  27265.0  1889.90\n",
       "4-1-22     7653.00  390.25  2224.0  1021.10  3514.7  26950.0  1880.05\n",
       "5-1-22     7649.25  393.20  2245.0  1028.00  3480.0  27154.5  1912.00\n",
       "6-1-22     7455.00  386.10  2229.0  1003.50  3454.6  26509.0  1890.50\n",
       "7-1-22     7546.15  396.55  2290.0  1029.00  3530.0  27029.9  1934.90"
      ]
     },
     "execution_count": 36,
     "metadata": {},
     "output_type": "execute_result"
    }
   ],
   "source": [
    "stocks=pd.concat([ultra['LTP'], ambuja['LTP'], acc['LTP'], ramco['LTP'], jk['LTP'], shree['LTP'], dalmia['LTP']],axis=1)\n",
    "stocks.columns=['ULTRA TECH', 'AMBUJA', 'ACC', 'RAMCO', 'JK', 'SHREE', 'DALMIA']\n",
    "stocks.head()"
   ]
  },
  {
   "cell_type": "code",
   "execution_count": 38,
   "id": "8ca42a81-c376-441d-8664-142259d86851",
   "metadata": {},
   "outputs": [
    {
     "data": {
      "text/plain": [
       "ULTRA TECH    0.000596\n",
       "AMBUJA        0.000594\n",
       "ACC           0.000048\n",
       "RAMCO        -0.000005\n",
       "JK            0.000351\n",
       "SHREE        -0.000036\n",
       "DALMIA        0.000098\n",
       "dtype: float64"
      ]
     },
     "execution_count": 38,
     "metadata": {},
     "output_type": "execute_result"
    }
   ],
   "source": [
    "stocks.pct_change(1).mean()"
   ]
  },
  {
   "cell_type": "code",
   "execution_count": 40,
   "id": "93c15669-4522-4a12-bbc8-e54df16c7fa2",
   "metadata": {},
   "outputs": [
    {
     "data": {
      "text/html": [
       "<div>\n",
       "<style scoped>\n",
       "    .dataframe tbody tr th:only-of-type {\n",
       "        vertical-align: middle;\n",
       "    }\n",
       "\n",
       "    .dataframe tbody tr th {\n",
       "        vertical-align: top;\n",
       "    }\n",
       "\n",
       "    .dataframe thead th {\n",
       "        text-align: right;\n",
       "    }\n",
       "</style>\n",
       "<table border=\"1\" class=\"dataframe\">\n",
       "  <thead>\n",
       "    <tr style=\"text-align: right;\">\n",
       "      <th></th>\n",
       "      <th>ULTRA TECH</th>\n",
       "      <th>AMBUJA</th>\n",
       "      <th>ACC</th>\n",
       "      <th>RAMCO</th>\n",
       "      <th>JK</th>\n",
       "      <th>SHREE</th>\n",
       "      <th>DALMIA</th>\n",
       "    </tr>\n",
       "  </thead>\n",
       "  <tbody>\n",
       "    <tr>\n",
       "      <th>ULTRA TECH</th>\n",
       "      <td>1.000000</td>\n",
       "      <td>0.418703</td>\n",
       "      <td>0.463485</td>\n",
       "      <td>0.583234</td>\n",
       "      <td>0.538918</td>\n",
       "      <td>0.600909</td>\n",
       "      <td>0.590072</td>\n",
       "    </tr>\n",
       "    <tr>\n",
       "      <th>AMBUJA</th>\n",
       "      <td>0.418703</td>\n",
       "      <td>1.000000</td>\n",
       "      <td>0.818329</td>\n",
       "      <td>0.436269</td>\n",
       "      <td>0.402645</td>\n",
       "      <td>0.391537</td>\n",
       "      <td>0.468512</td>\n",
       "    </tr>\n",
       "    <tr>\n",
       "      <th>ACC</th>\n",
       "      <td>0.463485</td>\n",
       "      <td>0.818329</td>\n",
       "      <td>1.000000</td>\n",
       "      <td>0.472180</td>\n",
       "      <td>0.449220</td>\n",
       "      <td>0.428380</td>\n",
       "      <td>0.512507</td>\n",
       "    </tr>\n",
       "    <tr>\n",
       "      <th>RAMCO</th>\n",
       "      <td>0.583234</td>\n",
       "      <td>0.436269</td>\n",
       "      <td>0.472180</td>\n",
       "      <td>1.000000</td>\n",
       "      <td>0.477018</td>\n",
       "      <td>0.474521</td>\n",
       "      <td>0.574203</td>\n",
       "    </tr>\n",
       "    <tr>\n",
       "      <th>JK</th>\n",
       "      <td>0.538918</td>\n",
       "      <td>0.402645</td>\n",
       "      <td>0.449220</td>\n",
       "      <td>0.477018</td>\n",
       "      <td>1.000000</td>\n",
       "      <td>0.492965</td>\n",
       "      <td>0.535592</td>\n",
       "    </tr>\n",
       "    <tr>\n",
       "      <th>SHREE</th>\n",
       "      <td>0.600909</td>\n",
       "      <td>0.391537</td>\n",
       "      <td>0.428380</td>\n",
       "      <td>0.474521</td>\n",
       "      <td>0.492965</td>\n",
       "      <td>1.000000</td>\n",
       "      <td>0.466820</td>\n",
       "    </tr>\n",
       "    <tr>\n",
       "      <th>DALMIA</th>\n",
       "      <td>0.590072</td>\n",
       "      <td>0.468512</td>\n",
       "      <td>0.512507</td>\n",
       "      <td>0.574203</td>\n",
       "      <td>0.535592</td>\n",
       "      <td>0.466820</td>\n",
       "      <td>1.000000</td>\n",
       "    </tr>\n",
       "  </tbody>\n",
       "</table>\n",
       "</div>"
      ],
      "text/plain": [
       "            ULTRA TECH    AMBUJA       ACC     RAMCO        JK     SHREE  \\\n",
       "ULTRA TECH    1.000000  0.418703  0.463485  0.583234  0.538918  0.600909   \n",
       "AMBUJA        0.418703  1.000000  0.818329  0.436269  0.402645  0.391537   \n",
       "ACC           0.463485  0.818329  1.000000  0.472180  0.449220  0.428380   \n",
       "RAMCO         0.583234  0.436269  0.472180  1.000000  0.477018  0.474521   \n",
       "JK            0.538918  0.402645  0.449220  0.477018  1.000000  0.492965   \n",
       "SHREE         0.600909  0.391537  0.428380  0.474521  0.492965  1.000000   \n",
       "DALMIA        0.590072  0.468512  0.512507  0.574203  0.535592  0.466820   \n",
       "\n",
       "              DALMIA  \n",
       "ULTRA TECH  0.590072  \n",
       "AMBUJA      0.468512  \n",
       "ACC         0.512507  \n",
       "RAMCO       0.574203  \n",
       "JK          0.535592  \n",
       "SHREE       0.466820  \n",
       "DALMIA      1.000000  "
      ]
     },
     "execution_count": 40,
     "metadata": {},
     "output_type": "execute_result"
    }
   ],
   "source": [
    "stocks.pct_change(1).corr()"
   ]
  },
  {
   "cell_type": "code",
   "execution_count": 42,
   "id": "1085168c-de7c-461d-957f-729b83829bbf",
   "metadata": {},
   "outputs": [
    {
     "data": {
      "text/html": [
       "<div>\n",
       "<style scoped>\n",
       "    .dataframe tbody tr th:only-of-type {\n",
       "        vertical-align: middle;\n",
       "    }\n",
       "\n",
       "    .dataframe tbody tr th {\n",
       "        vertical-align: top;\n",
       "    }\n",
       "\n",
       "    .dataframe thead th {\n",
       "        text-align: right;\n",
       "    }\n",
       "</style>\n",
       "<table border=\"1\" class=\"dataframe\">\n",
       "  <thead>\n",
       "    <tr style=\"text-align: right;\">\n",
       "      <th></th>\n",
       "      <th>ULTRA TECH</th>\n",
       "      <th>AMBUJA</th>\n",
       "      <th>ACC</th>\n",
       "      <th>RAMCO</th>\n",
       "      <th>JK</th>\n",
       "      <th>SHREE</th>\n",
       "      <th>DALMIA</th>\n",
       "    </tr>\n",
       "    <tr>\n",
       "      <th>date</th>\n",
       "      <th></th>\n",
       "      <th></th>\n",
       "      <th></th>\n",
       "      <th></th>\n",
       "      <th></th>\n",
       "      <th></th>\n",
       "      <th></th>\n",
       "    </tr>\n",
       "  </thead>\n",
       "  <tbody>\n",
       "    <tr>\n",
       "      <th>3-1-22</th>\n",
       "      <td>NaN</td>\n",
       "      <td>NaN</td>\n",
       "      <td>NaN</td>\n",
       "      <td>NaN</td>\n",
       "      <td>NaN</td>\n",
       "      <td>NaN</td>\n",
       "      <td>NaN</td>\n",
       "    </tr>\n",
       "    <tr>\n",
       "      <th>4-1-22</th>\n",
       "      <td>-0.007650</td>\n",
       "      <td>0.008398</td>\n",
       "      <td>-0.009751</td>\n",
       "      <td>-0.002004</td>\n",
       "      <td>-0.001506</td>\n",
       "      <td>-0.011553</td>\n",
       "      <td>-0.005212</td>\n",
       "    </tr>\n",
       "    <tr>\n",
       "      <th>5-1-22</th>\n",
       "      <td>-0.000490</td>\n",
       "      <td>0.007559</td>\n",
       "      <td>0.009442</td>\n",
       "      <td>0.006757</td>\n",
       "      <td>-0.009873</td>\n",
       "      <td>0.007588</td>\n",
       "      <td>0.016994</td>\n",
       "    </tr>\n",
       "    <tr>\n",
       "      <th>6-1-22</th>\n",
       "      <td>-0.025395</td>\n",
       "      <td>-0.018057</td>\n",
       "      <td>-0.007127</td>\n",
       "      <td>-0.023833</td>\n",
       "      <td>-0.007299</td>\n",
       "      <td>-0.023771</td>\n",
       "      <td>-0.011245</td>\n",
       "    </tr>\n",
       "    <tr>\n",
       "      <th>7-1-22</th>\n",
       "      <td>0.012227</td>\n",
       "      <td>0.027066</td>\n",
       "      <td>0.027367</td>\n",
       "      <td>0.025411</td>\n",
       "      <td>0.021826</td>\n",
       "      <td>0.019650</td>\n",
       "      <td>0.023486</td>\n",
       "    </tr>\n",
       "  </tbody>\n",
       "</table>\n",
       "</div>"
      ],
      "text/plain": [
       "        ULTRA TECH    AMBUJA       ACC     RAMCO        JK     SHREE    DALMIA\n",
       "date                                                                          \n",
       "3-1-22         NaN       NaN       NaN       NaN       NaN       NaN       NaN\n",
       "4-1-22   -0.007650  0.008398 -0.009751 -0.002004 -0.001506 -0.011553 -0.005212\n",
       "5-1-22   -0.000490  0.007559  0.009442  0.006757 -0.009873  0.007588  0.016994\n",
       "6-1-22   -0.025395 -0.018057 -0.007127 -0.023833 -0.007299 -0.023771 -0.011245\n",
       "7-1-22    0.012227  0.027066  0.027367  0.025411  0.021826  0.019650  0.023486"
      ]
     },
     "execution_count": 42,
     "metadata": {},
     "output_type": "execute_result"
    }
   ],
   "source": [
    "stocks.pct_change(1).head()"
   ]
  },
  {
   "cell_type": "code",
   "execution_count": 44,
   "id": "133db27c-7115-4971-b5e2-df728aab8bd8",
   "metadata": {},
   "outputs": [
    {
     "data": {
      "text/html": [
       "<div>\n",
       "<style scoped>\n",
       "    .dataframe tbody tr th:only-of-type {\n",
       "        vertical-align: middle;\n",
       "    }\n",
       "\n",
       "    .dataframe tbody tr th {\n",
       "        vertical-align: top;\n",
       "    }\n",
       "\n",
       "    .dataframe thead th {\n",
       "        text-align: right;\n",
       "    }\n",
       "</style>\n",
       "<table border=\"1\" class=\"dataframe\">\n",
       "  <thead>\n",
       "    <tr style=\"text-align: right;\">\n",
       "      <th></th>\n",
       "      <th>ULTRA TECH</th>\n",
       "      <th>AMBUJA</th>\n",
       "      <th>ACC</th>\n",
       "      <th>RAMCO</th>\n",
       "      <th>JK</th>\n",
       "      <th>SHREE</th>\n",
       "      <th>DALMIA</th>\n",
       "    </tr>\n",
       "    <tr>\n",
       "      <th>date</th>\n",
       "      <th></th>\n",
       "      <th></th>\n",
       "      <th></th>\n",
       "      <th></th>\n",
       "      <th></th>\n",
       "      <th></th>\n",
       "      <th></th>\n",
       "    </tr>\n",
       "  </thead>\n",
       "  <tbody>\n",
       "    <tr>\n",
       "      <th>3-1-22</th>\n",
       "      <td>NaN</td>\n",
       "      <td>NaN</td>\n",
       "      <td>NaN</td>\n",
       "      <td>NaN</td>\n",
       "      <td>NaN</td>\n",
       "      <td>NaN</td>\n",
       "      <td>NaN</td>\n",
       "    </tr>\n",
       "    <tr>\n",
       "      <th>4-1-22</th>\n",
       "      <td>-0.007680</td>\n",
       "      <td>0.008363</td>\n",
       "      <td>-0.009799</td>\n",
       "      <td>-0.002006</td>\n",
       "      <td>-0.001507</td>\n",
       "      <td>-0.011621</td>\n",
       "      <td>-0.005226</td>\n",
       "    </tr>\n",
       "    <tr>\n",
       "      <th>5-1-22</th>\n",
       "      <td>-0.000490</td>\n",
       "      <td>0.007531</td>\n",
       "      <td>0.009398</td>\n",
       "      <td>0.006735</td>\n",
       "      <td>-0.009922</td>\n",
       "      <td>0.007559</td>\n",
       "      <td>0.016851</td>\n",
       "    </tr>\n",
       "    <tr>\n",
       "      <th>6-1-22</th>\n",
       "      <td>-0.025723</td>\n",
       "      <td>-0.018222</td>\n",
       "      <td>-0.007152</td>\n",
       "      <td>-0.024121</td>\n",
       "      <td>-0.007326</td>\n",
       "      <td>-0.024058</td>\n",
       "      <td>-0.011308</td>\n",
       "    </tr>\n",
       "    <tr>\n",
       "      <th>7-1-22</th>\n",
       "      <td>0.012153</td>\n",
       "      <td>0.026706</td>\n",
       "      <td>0.026999</td>\n",
       "      <td>0.025094</td>\n",
       "      <td>0.021591</td>\n",
       "      <td>0.019459</td>\n",
       "      <td>0.023214</td>\n",
       "    </tr>\n",
       "  </tbody>\n",
       "</table>\n",
       "</div>"
      ],
      "text/plain": [
       "        ULTRA TECH    AMBUJA       ACC     RAMCO        JK     SHREE    DALMIA\n",
       "date                                                                          \n",
       "3-1-22         NaN       NaN       NaN       NaN       NaN       NaN       NaN\n",
       "4-1-22   -0.007680  0.008363 -0.009799 -0.002006 -0.001507 -0.011621 -0.005226\n",
       "5-1-22   -0.000490  0.007531  0.009398  0.006735 -0.009922  0.007559  0.016851\n",
       "6-1-22   -0.025723 -0.018222 -0.007152 -0.024121 -0.007326 -0.024058 -0.011308\n",
       "7-1-22    0.012153  0.026706  0.026999  0.025094  0.021591  0.019459  0.023214"
      ]
     },
     "execution_count": 44,
     "metadata": {},
     "output_type": "execute_result"
    }
   ],
   "source": [
    "log_ret=np.log(stocks/stocks.shift(1))\n",
    "log_ret.head()"
   ]
  },
  {
   "cell_type": "code",
   "execution_count": 46,
   "id": "72f0a4c9-bdec-4b4d-af72-8639c9d37504",
   "metadata": {},
   "outputs": [
    {
     "data": {
      "image/png": "[encoded data removed]",
      "text/plain": [
       "<Figure size 1200x800 with 9 Axes>"
      ]
     },
     "metadata": {},
     "output_type": "display_data"
    }
   ],
   "source": [
    "log_ret.hist(bins=100, figsize=(12,8))\n",
    "plt.tight_layout()\n",
    "fig=plt.show()\n",
    "fig"
   ]
  },
  {
   "cell_type": "code",
   "execution_count": 48,
   "id": "532ecd32-b994-439c-ab9c-ab0025950b99",
   "metadata": {},
   "outputs": [
    {
     "data": {
      "text/plain": [
       "ULTRA TECH    0.000491\n",
       "AMBUJA        0.000301\n",
       "ACC          -0.000155\n",
       "RAMCO        -0.000157\n",
       "JK            0.000178\n",
       "SHREE        -0.000170\n",
       "DALMIA       -0.000094\n",
       "dtype: float64"
      ]
     },
     "execution_count": 48,
     "metadata": {},
     "output_type": "execute_result"
    }
   ],
   "source": [
    "log_ret.mean()"
   ]
  },
  {
   "cell_type": "code",
   "execution_count": 50,
   "id": "d0e28cf6-2d58-4649-9459-bb498d8324e5",
   "metadata": {},
   "outputs": [
    {
     "data": {
      "text/plain": [
       "ULTRA TECH    0.014522\n",
       "AMBUJA        0.024412\n",
       "ACC           0.020227\n",
       "RAMCO         0.017448\n",
       "JK            0.018587\n",
       "SHREE         0.016367\n",
       "DALMIA        0.019618\n",
       "dtype: float64"
      ]
     },
     "execution_count": 50,
     "metadata": {},
     "output_type": "execute_result"
    }
   ],
   "source": [
    "log_ret.std()"
   ]
  },
  {
   "cell_type": "code",
   "execution_count": 52,
   "id": "eb39ff89-7378-4837-a0ee-43e4b8c060bb",
   "metadata": {},
   "outputs": [
    {
     "data": {
      "text/html": [
       "<div>\n",
       "<style scoped>\n",
       "    .dataframe tbody tr th:only-of-type {\n",
       "        vertical-align: middle;\n",
       "    }\n",
       "\n",
       "    .dataframe tbody tr th {\n",
       "        vertical-align: top;\n",
       "    }\n",
       "\n",
       "    .dataframe thead th {\n",
       "        text-align: right;\n",
       "    }\n",
       "</style>\n",
       "<table border=\"1\" class=\"dataframe\">\n",
       "  <thead>\n",
       "    <tr style=\"text-align: right;\">\n",
       "      <th></th>\n",
       "      <th>ULTRA TECH</th>\n",
       "      <th>AMBUJA</th>\n",
       "      <th>ACC</th>\n",
       "      <th>RAMCO</th>\n",
       "      <th>JK</th>\n",
       "      <th>SHREE</th>\n",
       "      <th>DALMIA</th>\n",
       "    </tr>\n",
       "  </thead>\n",
       "  <tbody>\n",
       "    <tr>\n",
       "      <th>ULTRA TECH</th>\n",
       "      <td>0.053146</td>\n",
       "      <td>0.036857</td>\n",
       "      <td>0.034288</td>\n",
       "      <td>0.037357</td>\n",
       "      <td>0.036744</td>\n",
       "      <td>0.035932</td>\n",
       "      <td>0.042465</td>\n",
       "    </tr>\n",
       "    <tr>\n",
       "      <th>AMBUJA</th>\n",
       "      <td>0.036857</td>\n",
       "      <td>0.150180</td>\n",
       "      <td>0.102279</td>\n",
       "      <td>0.046267</td>\n",
       "      <td>0.045729</td>\n",
       "      <td>0.038817</td>\n",
       "      <td>0.055998</td>\n",
       "    </tr>\n",
       "    <tr>\n",
       "      <th>ACC</th>\n",
       "      <td>0.034288</td>\n",
       "      <td>0.102279</td>\n",
       "      <td>0.103105</td>\n",
       "      <td>0.042015</td>\n",
       "      <td>0.042653</td>\n",
       "      <td>0.035668</td>\n",
       "      <td>0.051440</td>\n",
       "    </tr>\n",
       "    <tr>\n",
       "      <th>RAMCO</th>\n",
       "      <td>0.037357</td>\n",
       "      <td>0.046267</td>\n",
       "      <td>0.042015</td>\n",
       "      <td>0.076721</td>\n",
       "      <td>0.039084</td>\n",
       "      <td>0.034117</td>\n",
       "      <td>0.049744</td>\n",
       "    </tr>\n",
       "    <tr>\n",
       "      <th>JK</th>\n",
       "      <td>0.036744</td>\n",
       "      <td>0.045729</td>\n",
       "      <td>0.042653</td>\n",
       "      <td>0.039084</td>\n",
       "      <td>0.087060</td>\n",
       "      <td>0.037761</td>\n",
       "      <td>0.049464</td>\n",
       "    </tr>\n",
       "    <tr>\n",
       "      <th>SHREE</th>\n",
       "      <td>0.035932</td>\n",
       "      <td>0.038817</td>\n",
       "      <td>0.035668</td>\n",
       "      <td>0.034117</td>\n",
       "      <td>0.037761</td>\n",
       "      <td>0.067504</td>\n",
       "      <td>0.037796</td>\n",
       "    </tr>\n",
       "    <tr>\n",
       "      <th>DALMIA</th>\n",
       "      <td>0.042465</td>\n",
       "      <td>0.055998</td>\n",
       "      <td>0.051440</td>\n",
       "      <td>0.049744</td>\n",
       "      <td>0.049464</td>\n",
       "      <td>0.037796</td>\n",
       "      <td>0.096989</td>\n",
       "    </tr>\n",
       "  </tbody>\n",
       "</table>\n",
       "</div>"
      ],
      "text/plain": [
       "            ULTRA TECH    AMBUJA       ACC     RAMCO        JK     SHREE  \\\n",
       "ULTRA TECH    0.053146  0.036857  0.034288  0.037357  0.036744  0.035932   \n",
       "AMBUJA        0.036857  0.150180  0.102279  0.046267  0.045729  0.038817   \n",
       "ACC           0.034288  0.102279  0.103105  0.042015  0.042653  0.035668   \n",
       "RAMCO         0.037357  0.046267  0.042015  0.076721  0.039084  0.034117   \n",
       "JK            0.036744  0.045729  0.042653  0.039084  0.087060  0.037761   \n",
       "SHREE         0.035932  0.038817  0.035668  0.034117  0.037761  0.067504   \n",
       "DALMIA        0.042465  0.055998  0.051440  0.049744  0.049464  0.037796   \n",
       "\n",
       "              DALMIA  \n",
       "ULTRA TECH  0.042465  \n",
       "AMBUJA      0.055998  \n",
       "ACC         0.051440  \n",
       "RAMCO       0.049744  \n",
       "JK          0.049464  \n",
       "SHREE       0.037796  \n",
       "DALMIA      0.096989  "
      ]
     },
     "execution_count": 52,
     "metadata": {},
     "output_type": "execute_result"
    }
   ],
   "source": [
    "log_ret.cov()*252"
   ]
  },
  {
   "cell_type": "code",
   "execution_count": 54,
   "id": "93ace803-923d-4252-9f4b-18f3d6610a2c",
   "metadata": {},
   "outputs": [
    {
     "name": "stdout",
     "output_type": "stream",
     "text": [
      "Index(['ULTRA TECH', 'AMBUJA', 'ACC', 'RAMCO', 'JK', 'SHREE', 'DALMIA'], dtype='object')\n",
      "Random Weights: \n",
      "[0.51639863 0.57066759 0.02847423 0.17152166 0.68527698 0.83389686\n",
      " 0.30696622]\n",
      "Rebalance\n",
      "[0.16587379 0.18330566 0.00914628 0.05509493 0.22011965 0.26785824\n",
      " 0.09860144]\n",
      "Expected portfolio return\n",
      "0.02797449116923561\n",
      "Expected Volatility \n",
      "0.2223174647214882\n",
      "Sharpe Ratio \n",
      "0.12583128007635885\n"
     ]
    }
   ],
   "source": [
    "np.random.seed(101)\n",
    "print(stocks.columns)\n",
    "weights=np.array(np.random.random(7))\n",
    "print('Random Weights: ')\n",
    "print(weights)\n",
    "\n",
    "\n",
    "print('Rebalance')\n",
    "weights=weights/np.sum(weights)\n",
    "print(weights)\n",
    "\n",
    "\n",
    "print('Expected portfolio return')\n",
    "exp_ret=np.sum((log_ret.mean()*weights)*252)\n",
    "print(exp_ret)\n",
    "\n",
    "\n",
    "print('Expected Volatility ')\n",
    "exp_vol=np.sqrt(np.dot(weights.T, np.dot(log_ret.cov()*252, weights)))\n",
    "print(exp_vol)\n",
    "\n",
    "\n",
    "print('Sharpe Ratio ')\n",
    "SR=exp_ret/exp_vol\n",
    "print(SR)"
   ]
  },
  {
   "cell_type": "code",
   "execution_count": 58,
   "id": "928dc523-6ab8-4d89-9157-c6776c651b3b",
   "metadata": {},
   "outputs": [
    {
     "data": {
      "text/plain": [
       "array([0.96548322, 0.23235366, 0.08356143, 0.60354842, 0.72899276,\n",
       "       0.27623883, 0.68530633])"
      ]
     },
     "execution_count": 58,
     "metadata": {},
     "output_type": "execute_result"
    }
   ],
   "source": [
    "weights=np.array(np.random.random(7))\n",
    "weights"
   ]
  },
  {
   "cell_type": "code",
   "execution_count": 60,
   "id": "e8dac007-683d-4609-be09-4c3bdcb334bb",
   "metadata": {},
   "outputs": [
    {
     "data": {
      "text/plain": [
       "0.11462407537433586"
      ]
     },
     "execution_count": 60,
     "metadata": {},
     "output_type": "execute_result"
    }
   ],
   "source": [
    "np.sum(log_ret.mean()*weights*252)"
   ]
  },
  {
   "cell_type": "code",
   "execution_count": 64,
   "id": "ef781349-54ee-4eee-a23e-23d4d413eeb2",
   "metadata": {},
   "outputs": [],
   "source": [
    "np.random.seed(101)\n",
    "\n",
    "num_ports=100\n",
    "all_weights=np.zeros((num_ports, len(stocks.columns)))\n",
    "ret_arr=np.zeros(num_ports)\n",
    "vol_arr=np.zeros(num_ports)\n",
    "sharpe_arr=np.zeros(num_ports)\n",
    "\n",
    "\n",
    "for ind in range(num_ports):\n",
    "    # print(stocks.columns)\n",
    "    weights=np.array(np.random.random(7))\n",
    "    # print('Random Weights: ')\n",
    "    # print(weights)\n",
    "    \n",
    "    \n",
    "    # print('Rebalance')\n",
    "    weights=weights/np.sum(weights)\n",
    "    # print(weights)\n",
    "\n",
    "\n",
    "    all_weights[ind,:]=weights\n",
    "    \n",
    "    \n",
    "    # print('Expected portfolio return')\n",
    "    ret_arr[ind]=np.sum((log_ret.mean()*weights)*252)\n",
    "    # print(exp_ret)\n",
    "    \n",
    "    \n",
    "    # print('Expected Volatility ')\n",
    "    vol_arr[ind]=np.sqrt(np.dot(weights.T, np.dot(log_ret.cov()*252, weights)))\n",
    "    # print(exp_vol)\n",
    "    \n",
    "    \n",
    "    # print('Sharpe Ratio ')\n",
    "    sharpe_arr[ind]=ret_arr[ind]/vol_arr[ind]\n",
    "    # print(SR)"
   ]
  },
  {
   "cell_type": "code",
   "execution_count": 70,
   "id": "8dae36d2-d236-4484-ae1f-77a1f72e39bb",
   "metadata": {},
   "outputs": [
    {
     "data": {
      "text/plain": [
       "-0.09251652076306831"
      ]
     },
     "execution_count": 70,
     "metadata": {},
     "output_type": "execute_result"
    }
   ],
   "source": [
    "sharpe_arr.min()"
   ]
  },
  {
   "cell_type": "code",
   "execution_count": 72,
   "id": "b4511a02-d17e-41d5-8fef-436f07f7ce04",
   "metadata": {},
   "outputs": [
    {
     "data": {
      "text/plain": [
       "79"
      ]
     },
     "execution_count": 72,
     "metadata": {},
     "output_type": "execute_result"
    }
   ],
   "source": [
    "sharpe_arr.argmin()"
   ]
  },
  {
   "cell_type": "code",
   "execution_count": 78,
   "id": "10d44f59-7de4-498d-850f-82cdac6251a3",
   "metadata": {},
   "outputs": [
    {
     "data": {
      "text/plain": [
       "array([0.04681801, 0.00793848, 0.50775734, 0.00934386, 0.00846678,\n",
       "       0.04931713, 0.3703584 ])"
      ]
     },
     "execution_count": 78,
     "metadata": {},
     "output_type": "execute_result"
    }
   ],
   "source": [
    "all_weights[79,: ]"
   ]
  },
  {
   "cell_type": "code",
   "execution_count": 80,
   "id": "26fbcdb6-bdb8-4945-8ec4-b197fa6c78a4",
   "metadata": {},
   "outputs": [],
   "source": [
    "min_sr_ret=ret_arr[79]\n",
    "min_sr_vol=vol_arr[79]"
   ]
  },
  {
   "cell_type": "code",
   "execution_count": 82,
   "id": "d1ff2f6c-318e-4957-b8b3-ad3ee618cd2f",
   "metadata": {},
   "outputs": [
    {
     "data": {
      "image/png": "[encoded data removed]",
      "text/plain": [
       "<Figure size 1200x800 with 2 Axes>"
      ]
     },
     "metadata": {},
     "output_type": "display_data"
    }
   ],
   "source": [
    "plt.figure(figsize=(12,8))\n",
    "plt.scatter(vol_arr, ret_arr, c=sharpe_arr, cmap='plasma')\n",
    "plt.colorbar(label='Sharpe Ratio')\n",
    "plt.xlabel('Volatility')\n",
    "plt.ylabel('Return')\n",
    "\n",
    "plt.scatter(min_sr_vol, min_sr_ret, c='red', s=50, edgecolors='black')\n",
    "\n",
    "plt.show()"
   ]
  },
  {
   "cell_type": "code",
   "execution_count": 88,
   "id": "d7894c73-5fb0-4abe-b5aa-02eb194c3ddc",
   "metadata": {},
   "outputs": [
    {
     "data": {
      "text/plain": [
       "0.2519075773166618"
      ]
     },
     "execution_count": 88,
     "metadata": {},
     "output_type": "execute_result"
    }
   ],
   "source": [
    "sharpe_arr.max()"
   ]
  },
  {
   "cell_type": "code",
   "execution_count": 92,
   "id": "6a41cfb7-cb06-421c-8d22-6acaa962201e",
   "metadata": {},
   "outputs": [
    {
     "data": {
      "text/plain": [
       "83"
      ]
     },
     "execution_count": 92,
     "metadata": {},
     "output_type": "execute_result"
    }
   ],
   "source": [
    "sharpe_arr.argmax()"
   ]
  },
  {
   "cell_type": "code",
   "execution_count": 94,
   "id": "c5f77d0f-cbf0-464d-aeaf-220816f9893b",
   "metadata": {},
   "outputs": [
    {
     "data": {
      "text/plain": [
       "array([0.46408739, 0.00661405, 0.12039071, 0.02289004, 0.19067895,\n",
       "       0.15977284, 0.03556603])"
      ]
     },
     "execution_count": 94,
     "metadata": {},
     "output_type": "execute_result"
    }
   ],
   "source": [
    "all_weights[83,: ]"
   ]
  },
  {
   "cell_type": "code",
   "execution_count": 96,
   "id": "e45d1371-8ad3-43c9-b9d2-2d818464308b",
   "metadata": {},
   "outputs": [],
   "source": [
    "max_sr_ret=ret_arr[83]\n",
    "max_sr_vol=vol_arr[83]"
   ]
  },
  {
   "cell_type": "code",
   "execution_count": 98,
   "id": "ce8a6503-c1f4-4c72-9aa7-2361d21c7735",
   "metadata": {},
   "outputs": [
    {
     "data": {
      "image/png": "[encoded data removed]",
      "text/plain": [
       "<Figure size 1200x800 with 2 Axes>"
      ]
     },
     "metadata": {},
     "output_type": "display_data"
    }
   ],
   "source": [
    "plt.figure(figsize=(12,8))\n",
    "plt.scatter(vol_arr, ret_arr, c=sharpe_arr, cmap='plasma')\n",
    "plt.colorbar(label='Sharpe Ratio')\n",
    "plt.xlabel('Volatility')\n",
    "plt.ylabel('Return')\n",
    "\n",
    "plt.scatter(max_sr_vol, max_sr_ret, c='red', s=50, edgecolors='black')\n",
    "\n",
    "plt.show()"
   ]
  },
  {
   "cell_type": "code",
   "execution_count": 112,
   "id": "479542f5-7243-4cd9-8879-e0aa77c7f326",
   "metadata": {},
   "outputs": [
    {
     "data": {
      "text/html": [
       "<div>\n",
       "<style scoped>\n",
       "    .dataframe tbody tr th:only-of-type {\n",
       "        vertical-align: middle;\n",
       "    }\n",
       "\n",
       "    .dataframe tbody tr th {\n",
       "        vertical-align: top;\n",
       "    }\n",
       "\n",
       "    .dataframe thead th {\n",
       "        text-align: right;\n",
       "    }\n",
       "</style>\n",
       "<table border=\"1\" class=\"dataframe\">\n",
       "  <thead>\n",
       "    <tr style=\"text-align: right;\">\n",
       "      <th></th>\n",
       "      <th>0</th>\n",
       "    </tr>\n",
       "  </thead>\n",
       "  <tbody>\n",
       "    <tr>\n",
       "      <th>0</th>\n",
       "      <td>46.408739</td>\n",
       "    </tr>\n",
       "    <tr>\n",
       "      <th>1</th>\n",
       "      <td>0.661405</td>\n",
       "    </tr>\n",
       "    <tr>\n",
       "      <th>2</th>\n",
       "      <td>12.039071</td>\n",
       "    </tr>\n",
       "    <tr>\n",
       "      <th>3</th>\n",
       "      <td>2.289004</td>\n",
       "    </tr>\n",
       "    <tr>\n",
       "      <th>4</th>\n",
       "      <td>19.067895</td>\n",
       "    </tr>\n",
       "    <tr>\n",
       "      <th>5</th>\n",
       "      <td>15.977284</td>\n",
       "    </tr>\n",
       "    <tr>\n",
       "      <th>6</th>\n",
       "      <td>3.556603</td>\n",
       "    </tr>\n",
       "  </tbody>\n",
       "</table>\n",
       "</div>"
      ],
      "text/plain": [
       "           0\n",
       "0  46.408739\n",
       "1   0.661405\n",
       "2  12.039071\n",
       "3   2.289004\n",
       "4  19.067895\n",
       "5  15.977284\n",
       "6   3.556603"
      ]
     },
     "execution_count": 112,
     "metadata": {},
     "output_type": "execute_result"
    }
   ],
   "source": [
    "maxPaintReturns=all_weights[83,: ]*100\n",
    "x=pd.DataFrame(maxPaintReturns)\n",
    "x"
   ]
  },
  {
   "cell_type": "code",
   "execution_count": 108,
   "id": "a59b1653-0f8e-4bcb-bb75-c3fa682aa46b",
   "metadata": {},
   "outputs": [
    {
     "data": {
      "text/plain": [
       "99.99999999999999"
      ]
     },
     "execution_count": 108,
     "metadata": {},
     "output_type": "execute_result"
    }
   ],
   "source": [
    "np.sum(maxPaintReturns)"
   ]
  },
  {
   "cell_type": "code",
   "execution_count": 114,
   "id": "2ca96dab-290d-454b-a8ac-509bef1b4069",
   "metadata": {},
   "outputs": [],
   "source": [
    "def get_ret_vol_sr(weights):\n",
    "    weights=np.array(weights)\n",
    "    ret=np.sum(log_ret.mean()*weights)*252\n",
    "    vol=np.sqrt(np.dot(weights.T, np.dot(log_ret.cov()*252, weights)))\n",
    "    sr=ret/vol\n",
    "    return np.array([ret, vol, sr])"
   ]
  },
  {
   "cell_type": "code",
   "execution_count": 116,
   "id": "678655d7-447f-4d08-bfc3-d5db3dc2a1d9",
   "metadata": {},
   "outputs": [],
   "source": [
    "from scipy.optimize import minimize"
   ]
  },
  {
   "cell_type": "code",
   "execution_count": 118,
   "id": "24b6e684-2a98-4fbf-b1fb-b803b4839234",
   "metadata": {},
   "outputs": [],
   "source": [
    "def neg_sharpe(weights):\n",
    "    return get_ret_vol_sr(weights)[2]*-1"
   ]
  },
  {
   "cell_type": "code",
   "execution_count": 120,
   "id": "6d8313b2-8a41-4892-a16f-66e32187ff70",
   "metadata": {},
   "outputs": [],
   "source": [
    "def check_sum(weights):\n",
    "    return np.sum(weights) -1"
   ]
  },
  {
   "cell_type": "code",
   "execution_count": 122,
   "id": "99223828-fc39-461f-84fe-6c33387af453",
   "metadata": {},
   "outputs": [],
   "source": [
    "cons=({'type':'eq', 'fun':check_sum})"
   ]
  },
  {
   "cell_type": "code",
   "execution_count": 130,
   "id": "1ba1fcf5-8e31-429f-a8da-bb9b60f20322",
   "metadata": {},
   "outputs": [],
   "source": [
    "bounds=((0,1),(0,1),(0,1),(0,1),(0,1),(0,1),(0,1))"
   ]
  },
  {
   "cell_type": "code",
   "execution_count": 132,
   "id": "9dc3e9f4-3195-41a3-899f-dcf847dfe759",
   "metadata": {},
   "outputs": [],
   "source": [
    "init_guess=[0.25,0.25,0.25,0.25,0.25,0.25,0.25]"
   ]
  },
  {
   "cell_type": "code",
   "execution_count": 136,
   "id": "1dad316f-9fca-4827-803a-77c28867df2a",
   "metadata": {},
   "outputs": [
    {
     "data": {
      "text/plain": [
       " message: Optimization terminated successfully\n",
       " success: True\n",
       "  status: 0\n",
       "     fun: -0.5363207794397837\n",
       "       x: [ 1.000e+00  1.388e-16  0.000e+00  0.000e+00  0.000e+00\n",
       "            2.082e-16  5.551e-17]\n",
       "     nit: 4\n",
       "     jac: [-0.000e+00  4.269e-02  5.149e-01  5.483e-01  1.757e-01\n",
       "            5.485e-01  5.313e-01]\n",
       "    nfev: 32\n",
       "    njev: 4"
      ]
     },
     "execution_count": 136,
     "metadata": {},
     "output_type": "execute_result"
    }
   ],
   "source": [
    "opt_results=minimize(neg_sharpe, init_guess, method='SLSQP', bounds=bounds, constraints=cons)\n",
    "opt_results"
   ]
  },
  {
   "cell_type": "code",
   "execution_count": 138,
   "id": "e021fd6d-84b0-4041-af4b-b4e35782ae90",
   "metadata": {},
   "outputs": [
    {
     "data": {
      "text/plain": [
       "array([1.00000000e+00, 1.38777878e-16, 0.00000000e+00, 0.00000000e+00,\n",
       "       0.00000000e+00, 2.08166817e-16, 5.55111512e-17])"
      ]
     },
     "execution_count": 138,
     "metadata": {},
     "output_type": "execute_result"
    }
   ],
   "source": [
    "opt_results.x"
   ]
  },
  {
   "cell_type": "code",
   "execution_count": 140,
   "id": "5e573ff7-b796-42da-b555-615d8c9a6e11",
   "metadata": {},
   "outputs": [
    {
     "data": {
      "text/plain": [
       "array([0.12363997, 0.23053362, 0.53632078])"
      ]
     },
     "execution_count": 140,
     "metadata": {},
     "output_type": "execute_result"
    }
   ],
   "source": [
    "get_ret_vol_sr(opt_results.x)"
   ]
  },
  {
   "cell_type": "code",
   "execution_count": 142,
   "id": "969177b3-faba-48c6-874f-03e420012b0f",
   "metadata": {},
   "outputs": [],
   "source": [
    "frontier_y=np.linspace(-0.02,0.06,100)"
   ]
  },
  {
   "cell_type": "code",
   "execution_count": 144,
   "id": "b7a996ca-9b98-42e8-afef-548b21416e11",
   "metadata": {},
   "outputs": [],
   "source": [
    "def minimize_volitility(weights):\n",
    "    return get_ret_vol_sr(weights)[-1]"
   ]
  },
  {
   "cell_type": "code",
   "execution_count": 146,
   "id": "b3746f6e-57aa-40b2-96c0-66dff4269e1a",
   "metadata": {},
   "outputs": [],
   "source": [
    "frontier_volitility=[]\n",
    "for possible_return in frontier_y:\n",
    "    cons=({'type': 'eq', 'fun':check_sum}, \n",
    "          {'type': 'eq', 'fun': lambda w:get_ret_vol_sr(w)[0]-possible_return})\n",
    "    result=minimize(minimize_volitility, init_guess, method='SLSQP', bounds=bounds, constraints=cons)\n",
    "    frontier_volitility.append(result['fun'])"
   ]
  },
  {
   "cell_type": "code",
   "execution_count": 147,
   "id": "530e1cd8-12a6-4793-a0f3-91af3f3a79bf",
   "metadata": {},
   "outputs": [
    {
     "data": {
      "image/png": "[encoded data removed]",
      "text/plain": [
       "<Figure size 1200x800 with 2 Axes>"
      ]
     },
     "metadata": {},
     "output_type": "display_data"
    }
   ],
   "source": [
    "plt.figure(figsize=(12,8))\n",
    "plt.scatter(vol_arr, ret_arr, c=sharpe_arr, cmap='plasma')\n",
    "plt.colorbar(label='Sharpe Ratio')\n",
    "plt.xlabel('Volatility')\n",
    "plt.ylabel('Return')\n",
    "plt.plot(frontier_volitility, frontier_y, 'g--')\n",
    "plt.show()"
   ]
  },
  {
   "cell_type": "code",
   "execution_count": 150,
   "id": "e283d45a-e25f-4217-9b94-ac1f64147411",
   "metadata": {},
   "outputs": [
    {
     "name": "stdout",
     "output_type": "stream",
     "text": [
      "remote: Permission to vorpalcs/Cement.git denied to ash-013.\n",
      "fatal: unable to access 'https://github.com/vorpalcs/Cement.git/': The requested URL returned error: 403\n"
     ]
    }
   ],
   "source": [
    "!git push"
   ]
  },
  {
   "cell_type": "code",
   "execution_count": null,
   "id": "5eb4b5b1-d92d-4414-9a2c-0422c9886d31",
   "metadata": {},
   "outputs": [],
   "source": []
  }
 ],
 "metadata": {
  "kernelspec": {
   "display_name": "Python 3 (ipykernel)",
   "language": "python",
   "name": "python3"
  },
  "language_info": {
   "codemirror_mode": {
    "name": "ipython",
    "version": 3
   },
   "file_extension": ".py",
   "mimetype": "text/x-python",
   "name": "python",
   "nbconvert_exporter": "python",
   "pygments_lexer": "ipython3",
   "version": "3.11.5"
  }
 },
 "nbformat": 4,
 "nbformat_minor": 5
}
